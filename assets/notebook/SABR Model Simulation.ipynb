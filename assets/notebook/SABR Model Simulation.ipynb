{
 "cells": [
  {
   "cell_type": "code",
   "execution_count": 1,
   "metadata": {},
   "outputs": [],
   "source": [
    "import numpy as np\n",
    "from scipy.stats import norm\n",
    "from scipy.optimize import bisect\n",
    "import matplotlib.pyplot as plt"
   ]
  },
  {
   "cell_type": "code",
   "execution_count": 2,
   "metadata": {},
   "outputs": [],
   "source": [
    "# to ensure reproducibility\n",
    "np.random.seed(100)"
   ]
  },
  {
   "cell_type": "markdown",
   "metadata": {},
   "source": [
    "## SABR Model Simulation"
   ]
  },
  {
   "cell_type": "markdown",
   "metadata": {},
   "source": [
    "Reference: <https://www.maths.univ-evry.fr/pages_perso/crepey/Equities/SABR.pdf>"
   ]
  },
  {
   "cell_type": "markdown",
   "metadata": {},
   "source": [
    "Dynamics of SABR (stochastic-$\\alpha\\beta\\rho$) model:\n",
    "\n",
    "$$\n",
    "\\begin{align*}\n",
    "dF_t &= \\alpha_t F_t^\\beta dW_t^1 \\\\\n",
    "d\\alpha_t &= \\nu \\alpha_t dW_t^2\n",
    "\\end{align*}\n",
    "$$\n",
    "where $W_t^i \\sim \\mathcal{N}(0, t)$, and $dW_t^1dW_t^2 = \\rho dt$.  $F_t$ is the forward price of an underlying asset, and the parameters we want to estimate from data are $\\nu, \\beta$ and $\\rho$.\n",
    "\n",
    "For now, suppose the parameters $[\\nu, \\beta, \\rho]$ and $F_0, \\alpha_0$ are given.  Let $C_t(K, T)$ be the time-$t$  European call price of the forward with strike $K$ and maturity $T$.  We would like to study the Monte Carlo simulation of the forward price, and the implied volatilities of European call options across different moneyness."
   ]
  },
  {
   "cell_type": "markdown",
   "metadata": {},
   "source": [
    "Let $[\\nu, \\beta, \\rho] = [1.0, 1.0, 0.5]$, $F_0 = 100, \\alpha_0 = 20\\%$."
   ]
  },
  {
   "cell_type": "code",
   "execution_count": 3,
   "metadata": {},
   "outputs": [],
   "source": [
    "nu, beta, rho = 1.0, 1.0, 0.5\n",
    "F0, alpha0 = 100, 0.2\n",
    "T = 1"
   ]
  },
  {
   "cell_type": "markdown",
   "metadata": {},
   "source": [
    "### The forward price"
   ]
  },
  {
   "cell_type": "markdown",
   "metadata": {},
   "source": [
    "Since $F_t$ is a martingale, at time 0, $F_T = F_0 = 100$.  But let's assume we don't know $F_T$, and estimate it by Monte Carlo simulation."
   ]
  },
  {
   "cell_type": "markdown",
   "metadata": {},
   "source": [
    "We can use the Euler method to simulate $F_t, \\alpha_t$:\n",
    "$$\n",
    "\\begin{align*}\n",
    "F_{t+\\Delta t} &= F_t + \\alpha_t F_t^\\beta (W_{t+\\Delta t}^1 - W_t^1) &= F_t + \\alpha_t F_t^\\beta \\Delta W_t^1 \\\\\n",
    "\\alpha_{t+\\Delta t} &= \\alpha_t + \\nu \\alpha_t (W_{t+\\Delta t}^2 - W_t^2) &= \\alpha_t + \\nu \\alpha_t \\Delta W_t^2,\n",
    "\\end{align*}\n",
    "$$\n",
    "where $Cov(\\Delta W_t^1, \\Delta W_t^2) = \\rho \\Delta t$.\n",
    "\n",
    "In matrix form,\n",
    "$$\n",
    "\\begin{bmatrix}\n",
    "    F_{t+\\Delta t} \\\\ \\alpha_{t+\\Delta t}\n",
    "\\end{bmatrix}\n",
    "= \n",
    "\\begin{bmatrix}\n",
    "    F_t \\\\ \\alpha_t\n",
    "\\end{bmatrix}\n",
    "+\n",
    "\\begin{bmatrix}\n",
    "    \\alpha_t F_t & 0 \\\\\n",
    "    0 & \\nu \\alpha_t\n",
    "\\end{bmatrix}\n",
    "\\begin{bmatrix}\n",
    "    \\Delta W_t^1 \\\\ \\Delta W_t^2\n",
    "\\end{bmatrix}.\n",
    "$$\n",
    "For convenience of notation, denote \n",
    "$$\n",
    "\\begin{align*}\n",
    "    \\theta_t &= [F_t,\\alpha_t]^\\intercal, \\\\\n",
    "    A_t &=\n",
    "    \\begin{bmatrix}\n",
    "        \\alpha_t F_t & 0 \\\\\n",
    "        0 & \\nu \\alpha_t\n",
    "    \\end{bmatrix}, \\\\\n",
    "    \\Delta W_t &= [\\Delta W_t^1, \\Delta W_t^2]^\\intercal,\n",
    "\\end{align*}\n",
    "$$\n",
    "so the vectorized formula is\n",
    "$$\n",
    "    \\theta_{t+\\Delta t} = \\theta_t + A_t \\Delta W_t.\n",
    "$$\n",
    "We are interested in $\\theta_T$."
   ]
  },
  {
   "cell_type": "code",
   "execution_count": 4,
   "metadata": {},
   "outputs": [],
   "source": [
    "# correlation matrix of BM\n",
    "Rho = np.array([[1.0, rho],\n",
    "                [rho, 1.0]])\n",
    "\n",
    "# set other parameters\n",
    "N = 100\n",
    "deltat = T/N\n",
    "\n",
    "# set number of Monte Carlo simulations\n",
    "M = 100000\n",
    "\n",
    "# save results\n",
    "res = []\n",
    "\n",
    "# covariance matrix and cholesky decomposition\n",
    "Sigma = Rho * deltat\n",
    "L = np.linalg.cholesky(Sigma)\n",
    "\n",
    "for i in range(M):\n",
    "    # one simulation\n",
    "    theta = np.array([F0, alpha0])\n",
    "    for t in range(1, N+1):\n",
    "        # simulate two standard normal with covariance Sigma\n",
    "        dW = L @ np.random.normal(0, 1, 2)\n",
    "        # find A\n",
    "        A = np.array([[theta[0]  *theta[1], 0],\n",
    "                      [0, nu * theta[1]]])\n",
    "        theta += A @ dW\n",
    "    res.append(theta[0])\n",
    "\n",
    "res = np.array(res)"
   ]
  },
  {
   "cell_type": "code",
   "execution_count": 5,
   "metadata": {},
   "outputs": [],
   "source": [
    "res = np.array(res)"
   ]
  },
  {
   "cell_type": "code",
   "execution_count": 6,
   "metadata": {},
   "outputs": [
    {
     "data": {
      "text/plain": [
       "99.66858839666122"
      ]
     },
     "execution_count": 6,
     "metadata": {},
     "output_type": "execute_result"
    }
   ],
   "source": [
    "np.mean(res)"
   ]
  },
  {
   "cell_type": "code",
   "execution_count": 7,
   "metadata": {},
   "outputs": [
    {
     "data": {
      "text/plain": [
       "0.14527812099029214"
      ]
     },
     "execution_count": 7,
     "metadata": {},
     "output_type": "execute_result"
    }
   ],
   "source": [
    "np.std(res) / np.sqrt(M)"
   ]
  },
  {
   "cell_type": "markdown",
   "metadata": {},
   "source": [
    "Indeed, the mean $E^{MC}(F_T) = \\frac{1}{M} \\sum_{i=1}^M \\hat{F}_T^{(i)}$ from simulation is 99.67, which is around its true value 100.  The estimate has a standard deviation of around 0.15, and the time taken is already long, so we need to apply some variance reduction techniques if we really want to use simulation in real-time."
   ]
  },
  {
   "cell_type": "markdown",
   "metadata": {},
   "source": [
    "### The call price across different strikes"
   ]
  },
  {
   "cell_type": "markdown",
   "metadata": {},
   "source": [
    "Assume zero risk-free rate, and define moneyness as $m := \\log(F_0/K)$.  We want to plot the BS implied volatilities across different moneyness, by varying $K$.  Then \n",
    "$$\n",
    "K = F_0 e^{-m}.\n",
    "$$"
   ]
  },
  {
   "cell_type": "code",
   "execution_count": 8,
   "metadata": {},
   "outputs": [],
   "source": [
    "moneyness = np.linspace(-2, 2, 100)\n",
    "Ks = F0 * np.exp(-moneyness)"
   ]
  },
  {
   "cell_type": "code",
   "execution_count": 9,
   "metadata": {},
   "outputs": [],
   "source": [
    "def BS_call(S, K, r, sigma, T):\n",
    "    d1 = (np.log(S/K) + (r + 1/2 * sigma**2) * T) / (sigma * np.sqrt(T))\n",
    "    d2 = d1 - sigma * np.sqrt(T)\n",
    "    return S * norm.cdf(d1) - K * np.exp(-r * T) * norm.cdf(d2)"
   ]
  },
  {
   "cell_type": "code",
   "execution_count": 10,
   "metadata": {},
   "outputs": [],
   "source": [
    "def simulate_call_prc(K):\n",
    "    res = []\n",
    "\n",
    "    # covariance matrix and cholesky decomposition\n",
    "    Sigma = Rho * deltat\n",
    "    L = np.linalg.cholesky(Sigma)\n",
    "\n",
    "    for i in range(M):\n",
    "        # one simulation\n",
    "        theta = np.array([F0, alpha0])\n",
    "        for t in range(1, N+1):\n",
    "            # simulate two standard normal with covariance Sigma\n",
    "            dW = L @ np.random.normal(0, 1, 2)\n",
    "            # find A\n",
    "            A = np.array([[theta[0]  *theta[1], 0],\n",
    "                          [0, nu * theta[1]]])\n",
    "            theta += A @ dW\n",
    "        res.append(theta[0])\n",
    "    \n",
    "    res = np.array(res)\n",
    "    \n",
    "    return np.mean(np.maximum(res - K, 0))"
   ]
  },
  {
   "cell_type": "code",
   "execution_count": 11,
   "metadata": {},
   "outputs": [],
   "source": [
    "# generate a list of call prices under different Ks\n",
    "# for now set Monte Carlo parameter as 10000\n",
    "# beware: this is going to take a long time\n",
    "M = 10000\n",
    "call_prices = np.array([ simulate_call_prc(K) for K in Ks ])"
   ]
  },
  {
   "cell_type": "code",
   "execution_count": 12,
   "metadata": {},
   "outputs": [],
   "source": [
    "imp_vols = []\n",
    "for i, K in enumerate(Ks):\n",
    "    c = call_prices[i]\n",
    "    try:\n",
    "        imp_vol = bisect(lambda x: BS_call(F0, K, 0, x, T) - c, 1e-2, 1)\n",
    "    except ValueError as e:\n",
    "        imp_vol = None\n",
    "    imp_vols.append(imp_vol)\n",
    "imp_vols = np.array(imp_vols)"
   ]
  },
  {
   "cell_type": "code",
   "execution_count": 13,
   "metadata": {},
   "outputs": [
    {
     "data": {
      "image/png": "[encoded data removed]",
      "text/plain": [
       "<Figure size 432x288 with 1 Axes>"
      ]
     },
     "metadata": {
      "needs_background": "light"
     },
     "output_type": "display_data"
    }
   ],
   "source": [
    "plt.plot(moneyness, imp_vols)\n",
    "plt.show()"
   ]
  },
  {
   "cell_type": "markdown",
   "metadata": {},
   "source": [
    "There are a lot of zig-zags because of large estimation errors caused by a small $M$ in Monte Carlo.  In the SABR paper, there is actually an analytical formula for implied volatility so we can compare the results from our simulations with that generated from the formula.  Let $f = F_0$ and $\\alpha = \\alpha_0$,\n",
    "\n",
    "$$\n",
    "\\begin{align*}\n",
    "    \\sigma_B(K, f) = & \\frac{\\alpha}{(fK)^{(1-\\beta)/2}\\{ 1 + \\frac{(1-\\beta)^2}{24}\\log^2f/K + \\frac{(1-\\beta)^4}{1920}\\log^4f/K + \\cdots \\}} \\cdot \\left( \\frac{z}{x(z)} \\right) \\cdot \\\\\n",
    "    & \\left\\{ 1 + \\left[ \\frac{(1-\\beta)^4}{24}\\frac{\\alpha^2}{(fK)^{1-\\beta}} + \\frac{1}{4} \\frac{\\rho\\beta\\nu\\alpha}{(fK)^{(1-\\beta)/2}} + \\frac{2 - 3\\rho^2}{24}\\nu^2 \\right] T + \\cdots \\right\\},\n",
    "\\end{align*}\n",
    "$$\n",
    "where\n",
    "$$\n",
    "z = \\frac{\\nu}{\\alpha} (fK)^{(1-\\beta)/2} \\log f/K,\n",
    "$$\n",
    "and\n",
    "$$\n",
    "x(z) = \\log \\left\\{ \\frac{ \\sqrt{1 - 2\\rho z + z^2} + z - \\rho }{1 - \\rho} \\right\\}.\n",
    "$$"
   ]
  },
  {
   "cell_type": "code",
   "execution_count": 14,
   "metadata": {},
   "outputs": [],
   "source": [
    "def x_func(z):\n",
    "    return np.log( (np.sqrt(1 - 2*rho*z + z**2) + z - rho) / (1 - rho) )\n",
    "\n",
    "def theo_impvol(K, f):\n",
    "    first_term = alpha0 / ( (f*K)**((1-beta)/2) * (1 + (1-beta)**2/24 * np.log(f/K)**2 + \n",
    "                                                   (1-beta)**4/1920 * np.log(f/K)**4) )\n",
    "    \n",
    "    z = nu / alpha0 * (f*K)**((1-beta)/2) * np.log(f/K)\n",
    "    second_term = z / x_func(z)\n",
    "    \n",
    "    third_term = 1 + ( (1-beta)**2/24 * alpha0**2/(f*K)**(1-beta) + \n",
    "                      1/4 * rho*beta*nu*alpha0/(f*K)**((1-beta)/2) + (2-3*rho**2)/24 * nu**2 ) * T\n",
    "    \n",
    "    return first_term * second_term * third_term"
   ]
  },
  {
   "cell_type": "code",
   "execution_count": 15,
   "metadata": {},
   "outputs": [],
   "source": [
    "BS_impvols = np.array([ theo_impvol(K, F0) for K in Ks ])"
   ]
  },
  {
   "cell_type": "markdown",
   "metadata": {},
   "source": [
    "Plotting simulated implied vol against theoretical vol:"
   ]
  },
  {
   "cell_type": "code",
   "execution_count": 16,
   "metadata": {},
   "outputs": [
    {
     "data": {
      "image/png": "[encoded data removed]",
      "text/plain": [
       "<Figure size 432x288 with 1 Axes>"
      ]
     },
     "metadata": {
      "needs_background": "light"
     },
     "output_type": "display_data"
    }
   ],
   "source": [
    "plt.plot(moneyness, imp_vols, label=\"simulated $\\sigma_{imp}$\")\n",
    "plt.plot(moneyness, BS_impvols, label=\"theoretical $\\sigma_{imp}$\")\n",
    "plt.legend()\n",
    "plt.show()"
   ]
  }
 ],
 "metadata": {
  "kernelspec": {
   "display_name": "Python 3",
   "language": "python",
   "name": "python3"
  },
  "language_info": {
   "codemirror_mode": {
    "name": "ipython",
    "version": 3
   },
   "file_extension": ".py",
   "mimetype": "text/x-python",
   "name": "python",
   "nbconvert_exporter": "python",
   "pygments_lexer": "ipython3",
   "version": "3.8.5"
  }
 },
 "nbformat": 4,
 "nbformat_minor": 4
}
